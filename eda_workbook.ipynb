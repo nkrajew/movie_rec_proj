{
 "cells": [
  {
   "cell_type": "markdown",
   "metadata": {},
   "source": [
    "# Movie Recommendation System Project\n",
    "Based on data from https://drive.google.com/file/d/1Dn1BZD3YxgBQJSIjbfNnmCFlDW2jdQGD/view"
   ]
  },
  {
   "cell_type": "code",
   "execution_count": 224,
   "metadata": {},
   "outputs": [],
   "source": [
    "import numpy as np\n",
    "import pandas as pd\n",
    "import matplotlib.pyplot as plt\n",
    "import seaborn as sns\n",
    "sns.set()"
   ]
  },
  {
   "cell_type": "code",
   "execution_count": 2,
   "metadata": {},
   "outputs": [],
   "source": [
    "ratings = pd.read_csv('ratings.csv')\n",
    "movies = pd.read_csv('movies.csv')"
   ]
  },
  {
   "cell_type": "code",
   "execution_count": 3,
   "metadata": {},
   "outputs": [
    {
     "data": {
      "text/html": [
       "<div>\n",
       "<style scoped>\n",
       "    .dataframe tbody tr th:only-of-type {\n",
       "        vertical-align: middle;\n",
       "    }\n",
       "\n",
       "    .dataframe tbody tr th {\n",
       "        vertical-align: top;\n",
       "    }\n",
       "\n",
       "    .dataframe thead th {\n",
       "        text-align: right;\n",
       "    }\n",
       "</style>\n",
       "<table border=\"1\" class=\"dataframe\">\n",
       "  <thead>\n",
       "    <tr style=\"text-align: right;\">\n",
       "      <th></th>\n",
       "      <th>userId</th>\n",
       "      <th>movieId</th>\n",
       "      <th>rating</th>\n",
       "      <th>timestamp</th>\n",
       "    </tr>\n",
       "  </thead>\n",
       "  <tbody>\n",
       "    <tr>\n",
       "      <th>0</th>\n",
       "      <td>1</td>\n",
       "      <td>16</td>\n",
       "      <td>4.0</td>\n",
       "      <td>1217897793</td>\n",
       "    </tr>\n",
       "    <tr>\n",
       "      <th>1</th>\n",
       "      <td>1</td>\n",
       "      <td>24</td>\n",
       "      <td>1.5</td>\n",
       "      <td>1217895807</td>\n",
       "    </tr>\n",
       "    <tr>\n",
       "      <th>2</th>\n",
       "      <td>1</td>\n",
       "      <td>32</td>\n",
       "      <td>4.0</td>\n",
       "      <td>1217896246</td>\n",
       "    </tr>\n",
       "    <tr>\n",
       "      <th>3</th>\n",
       "      <td>1</td>\n",
       "      <td>47</td>\n",
       "      <td>4.0</td>\n",
       "      <td>1217896556</td>\n",
       "    </tr>\n",
       "    <tr>\n",
       "      <th>4</th>\n",
       "      <td>1</td>\n",
       "      <td>50</td>\n",
       "      <td>4.0</td>\n",
       "      <td>1217896523</td>\n",
       "    </tr>\n",
       "  </tbody>\n",
       "</table>\n",
       "</div>"
      ],
      "text/plain": [
       "   userId  movieId  rating   timestamp\n",
       "0       1       16     4.0  1217897793\n",
       "1       1       24     1.5  1217895807\n",
       "2       1       32     4.0  1217896246\n",
       "3       1       47     4.0  1217896556\n",
       "4       1       50     4.0  1217896523"
      ]
     },
     "execution_count": 3,
     "metadata": {},
     "output_type": "execute_result"
    }
   ],
   "source": [
    "ratings.head()"
   ]
  },
  {
   "cell_type": "code",
   "execution_count": 4,
   "metadata": {},
   "outputs": [
    {
     "data": {
      "text/html": [
       "<div>\n",
       "<style scoped>\n",
       "    .dataframe tbody tr th:only-of-type {\n",
       "        vertical-align: middle;\n",
       "    }\n",
       "\n",
       "    .dataframe tbody tr th {\n",
       "        vertical-align: top;\n",
       "    }\n",
       "\n",
       "    .dataframe thead th {\n",
       "        text-align: right;\n",
       "    }\n",
       "</style>\n",
       "<table border=\"1\" class=\"dataframe\">\n",
       "  <thead>\n",
       "    <tr style=\"text-align: right;\">\n",
       "      <th></th>\n",
       "      <th>movieId</th>\n",
       "      <th>title</th>\n",
       "      <th>genres</th>\n",
       "    </tr>\n",
       "  </thead>\n",
       "  <tbody>\n",
       "    <tr>\n",
       "      <th>0</th>\n",
       "      <td>1</td>\n",
       "      <td>Toy Story (1995)</td>\n",
       "      <td>Adventure|Animation|Children|Comedy|Fantasy</td>\n",
       "    </tr>\n",
       "    <tr>\n",
       "      <th>1</th>\n",
       "      <td>2</td>\n",
       "      <td>Jumanji (1995)</td>\n",
       "      <td>Adventure|Children|Fantasy</td>\n",
       "    </tr>\n",
       "    <tr>\n",
       "      <th>2</th>\n",
       "      <td>3</td>\n",
       "      <td>Grumpier Old Men (1995)</td>\n",
       "      <td>Comedy|Romance</td>\n",
       "    </tr>\n",
       "    <tr>\n",
       "      <th>3</th>\n",
       "      <td>4</td>\n",
       "      <td>Waiting to Exhale (1995)</td>\n",
       "      <td>Comedy|Drama|Romance</td>\n",
       "    </tr>\n",
       "    <tr>\n",
       "      <th>4</th>\n",
       "      <td>5</td>\n",
       "      <td>Father of the Bride Part II (1995)</td>\n",
       "      <td>Comedy</td>\n",
       "    </tr>\n",
       "  </tbody>\n",
       "</table>\n",
       "</div>"
      ],
      "text/plain": [
       "   movieId                               title  \\\n",
       "0        1                    Toy Story (1995)   \n",
       "1        2                      Jumanji (1995)   \n",
       "2        3             Grumpier Old Men (1995)   \n",
       "3        4            Waiting to Exhale (1995)   \n",
       "4        5  Father of the Bride Part II (1995)   \n",
       "\n",
       "                                        genres  \n",
       "0  Adventure|Animation|Children|Comedy|Fantasy  \n",
       "1                   Adventure|Children|Fantasy  \n",
       "2                               Comedy|Romance  \n",
       "3                         Comedy|Drama|Romance  \n",
       "4                                       Comedy  "
      ]
     },
     "execution_count": 4,
     "metadata": {},
     "output_type": "execute_result"
    }
   ],
   "source": [
    "movies.head()"
   ]
  },
  {
   "cell_type": "code",
   "execution_count": 5,
   "metadata": {},
   "outputs": [
    {
     "data": {
      "text/html": [
       "<div>\n",
       "<style scoped>\n",
       "    .dataframe tbody tr th:only-of-type {\n",
       "        vertical-align: middle;\n",
       "    }\n",
       "\n",
       "    .dataframe tbody tr th {\n",
       "        vertical-align: top;\n",
       "    }\n",
       "\n",
       "    .dataframe thead th {\n",
       "        text-align: right;\n",
       "    }\n",
       "</style>\n",
       "<table border=\"1\" class=\"dataframe\">\n",
       "  <thead>\n",
       "    <tr style=\"text-align: right;\">\n",
       "      <th></th>\n",
       "      <th>movieId</th>\n",
       "    </tr>\n",
       "  </thead>\n",
       "  <tbody>\n",
       "    <tr>\n",
       "      <th>count</th>\n",
       "      <td>10329.000000</td>\n",
       "    </tr>\n",
       "    <tr>\n",
       "      <th>mean</th>\n",
       "      <td>31924.282893</td>\n",
       "    </tr>\n",
       "    <tr>\n",
       "      <th>std</th>\n",
       "      <td>37734.741149</td>\n",
       "    </tr>\n",
       "    <tr>\n",
       "      <th>min</th>\n",
       "      <td>1.000000</td>\n",
       "    </tr>\n",
       "    <tr>\n",
       "      <th>25%</th>\n",
       "      <td>3240.000000</td>\n",
       "    </tr>\n",
       "    <tr>\n",
       "      <th>50%</th>\n",
       "      <td>7088.000000</td>\n",
       "    </tr>\n",
       "    <tr>\n",
       "      <th>75%</th>\n",
       "      <td>59900.000000</td>\n",
       "    </tr>\n",
       "    <tr>\n",
       "      <th>max</th>\n",
       "      <td>149532.000000</td>\n",
       "    </tr>\n",
       "  </tbody>\n",
       "</table>\n",
       "</div>"
      ],
      "text/plain": [
       "             movieId\n",
       "count   10329.000000\n",
       "mean    31924.282893\n",
       "std     37734.741149\n",
       "min         1.000000\n",
       "25%      3240.000000\n",
       "50%      7088.000000\n",
       "75%     59900.000000\n",
       "max    149532.000000"
      ]
     },
     "execution_count": 5,
     "metadata": {},
     "output_type": "execute_result"
    }
   ],
   "source": [
    "movies.describe()"
   ]
  },
  {
   "cell_type": "code",
   "execution_count": 6,
   "metadata": {},
   "outputs": [
    {
     "data": {
      "text/html": [
       "<div>\n",
       "<style scoped>\n",
       "    .dataframe tbody tr th:only-of-type {\n",
       "        vertical-align: middle;\n",
       "    }\n",
       "\n",
       "    .dataframe tbody tr th {\n",
       "        vertical-align: top;\n",
       "    }\n",
       "\n",
       "    .dataframe thead th {\n",
       "        text-align: right;\n",
       "    }\n",
       "</style>\n",
       "<table border=\"1\" class=\"dataframe\">\n",
       "  <thead>\n",
       "    <tr style=\"text-align: right;\">\n",
       "      <th></th>\n",
       "      <th>userId</th>\n",
       "      <th>movieId</th>\n",
       "      <th>rating</th>\n",
       "      <th>timestamp</th>\n",
       "    </tr>\n",
       "  </thead>\n",
       "  <tbody>\n",
       "    <tr>\n",
       "      <th>count</th>\n",
       "      <td>105339.000000</td>\n",
       "      <td>105339.000000</td>\n",
       "      <td>105339.000000</td>\n",
       "      <td>1.053390e+05</td>\n",
       "    </tr>\n",
       "    <tr>\n",
       "      <th>mean</th>\n",
       "      <td>364.924539</td>\n",
       "      <td>13381.312477</td>\n",
       "      <td>3.516850</td>\n",
       "      <td>1.130424e+09</td>\n",
       "    </tr>\n",
       "    <tr>\n",
       "      <th>std</th>\n",
       "      <td>197.486905</td>\n",
       "      <td>26170.456869</td>\n",
       "      <td>1.044872</td>\n",
       "      <td>1.802660e+08</td>\n",
       "    </tr>\n",
       "    <tr>\n",
       "      <th>min</th>\n",
       "      <td>1.000000</td>\n",
       "      <td>1.000000</td>\n",
       "      <td>0.500000</td>\n",
       "      <td>8.285650e+08</td>\n",
       "    </tr>\n",
       "    <tr>\n",
       "      <th>25%</th>\n",
       "      <td>192.000000</td>\n",
       "      <td>1073.000000</td>\n",
       "      <td>3.000000</td>\n",
       "      <td>9.711008e+08</td>\n",
       "    </tr>\n",
       "    <tr>\n",
       "      <th>50%</th>\n",
       "      <td>383.000000</td>\n",
       "      <td>2497.000000</td>\n",
       "      <td>3.500000</td>\n",
       "      <td>1.115154e+09</td>\n",
       "    </tr>\n",
       "    <tr>\n",
       "      <th>75%</th>\n",
       "      <td>557.000000</td>\n",
       "      <td>5991.000000</td>\n",
       "      <td>4.000000</td>\n",
       "      <td>1.275496e+09</td>\n",
       "    </tr>\n",
       "    <tr>\n",
       "      <th>max</th>\n",
       "      <td>668.000000</td>\n",
       "      <td>149532.000000</td>\n",
       "      <td>5.000000</td>\n",
       "      <td>1.452405e+09</td>\n",
       "    </tr>\n",
       "  </tbody>\n",
       "</table>\n",
       "</div>"
      ],
      "text/plain": [
       "              userId        movieId         rating     timestamp\n",
       "count  105339.000000  105339.000000  105339.000000  1.053390e+05\n",
       "mean      364.924539   13381.312477       3.516850  1.130424e+09\n",
       "std       197.486905   26170.456869       1.044872  1.802660e+08\n",
       "min         1.000000       1.000000       0.500000  8.285650e+08\n",
       "25%       192.000000    1073.000000       3.000000  9.711008e+08\n",
       "50%       383.000000    2497.000000       3.500000  1.115154e+09\n",
       "75%       557.000000    5991.000000       4.000000  1.275496e+09\n",
       "max       668.000000  149532.000000       5.000000  1.452405e+09"
      ]
     },
     "execution_count": 6,
     "metadata": {},
     "output_type": "execute_result"
    }
   ],
   "source": [
    "ratings.describe()"
   ]
  },
  {
   "cell_type": "markdown",
   "metadata": {},
   "source": [
    "## Preprocessing"
   ]
  },
  {
   "cell_type": "code",
   "execution_count": 7,
   "metadata": {
    "scrolled": false
   },
   "outputs": [],
   "source": [
    "movies['genres'] = [x.replace('Film-Noir', 'filmnoir') for x in movies['genres']]\n",
    "movies['genres'] = [x.replace('Sci-Fi', 'scifi') for x in movies['genres']]\n",
    "\n",
    "ratings.drop('timestamp', axis=1, inplace=True)"
   ]
  },
  {
   "cell_type": "code",
   "execution_count": 8,
   "metadata": {},
   "outputs": [],
   "source": [
    "# create a movie title dictionary\n",
    "movie_dict = movies.drop('genres',axis=1).set_index('movieId').to_dict()"
   ]
  },
  {
   "cell_type": "markdown",
   "metadata": {},
   "source": [
    "## Content-based Recommendation System"
   ]
  },
  {
   "cell_type": "code",
   "execution_count": 9,
   "metadata": {},
   "outputs": [],
   "source": [
    "from sklearn.feature_extraction.text import TfidfVectorizer\n",
    "tfv = TfidfVectorizer(analyzer='word',ngram_range=(1, 2),min_df=1)\n",
    "x = tfv.fit_transform(movies['genres'])"
   ]
  },
  {
   "cell_type": "code",
   "execution_count": 10,
   "metadata": {},
   "outputs": [],
   "source": [
    "# compute the cosine similarities of genres\n",
    "from sklearn.metrics.pairwise import linear_kernel\n",
    "cosine_sim = linear_kernel(x, x)"
   ]
  },
  {
   "cell_type": "code",
   "execution_count": 201,
   "metadata": {},
   "outputs": [],
   "source": [
    "# define function to get recommendations based on cosine similarites of genre\n",
    "def genre_recommendations(title):\n",
    "    idx = movies[movies['title'] == title].index[0]\n",
    "    sim_scores = list(enumerate(cosine_sim[idx]))\n",
    "    sim_scores = sorted(sim_scores, key=lambda x: x[1], reverse=True)\n",
    "    movie_indices = [i[0] for i in sim_scores]\n",
    "    return movies['title'].iloc[movie_indices].drop(idx)"
   ]
  },
  {
   "cell_type": "code",
   "execution_count": 214,
   "metadata": {},
   "outputs": [
    {
     "data": {
      "text/plain": [
       "0                                        Toy Story (1995)\n",
       "1815                                          Antz (1998)\n",
       "2967       Adventures of Rocky and Bullwinkle, The (2000)\n",
       "3166                     Emperor's New Groove, The (2000)\n",
       "3811                                Monsters, Inc. (2001)\n",
       "6617    DuckTales: The Movie - Treasure of the Lost La...\n",
       "6997                                     Wild, The (2006)\n",
       "7382                               Shrek the Third (2007)\n",
       "7987                       Tale of Despereaux, The (2008)\n",
       "9215    Asterix and the Vikings (Astérix et les Viking...\n",
       "Name: title, dtype: object"
      ]
     },
     "execution_count": 214,
     "metadata": {},
     "output_type": "execute_result"
    }
   ],
   "source": [
    "genre_recommendations('Toy Story 2 (1999)').head(10)"
   ]
  },
  {
   "cell_type": "markdown",
   "metadata": {},
   "source": [
    "## Collaborative Filtering"
   ]
  },
  {
   "cell_type": "markdown",
   "metadata": {},
   "source": [
    "### Memory Based"
   ]
  },
  {
   "cell_type": "markdown",
   "metadata": {},
   "source": [
    "Memory based models use past behavior and not context (or attributes) to make recommendations. These types of models are susceptible to \"cold-start\" problems in which there is no historical data to make a recommendation. There are two flavors of memory based models: user-based and item-based."
   ]
  },
  {
   "cell_type": "code",
   "execution_count": 14,
   "metadata": {},
   "outputs": [
    {
     "data": {
      "text/plain": [
       "(105339, 4)"
      ]
     },
     "execution_count": 14,
     "metadata": {},
     "output_type": "execute_result"
    }
   ],
   "source": [
    "# let's merge the movie titles with the ratings\n",
    "data = pd.merge(movies,ratings)\n",
    "data.drop(['genres'], axis=1, inplace=True)\n",
    "data.shape"
   ]
  },
  {
   "cell_type": "code",
   "execution_count": 106,
   "metadata": {},
   "outputs": [
    {
     "data": {
      "text/html": [
       "<div>\n",
       "<style scoped>\n",
       "    .dataframe tbody tr th:only-of-type {\n",
       "        vertical-align: middle;\n",
       "    }\n",
       "\n",
       "    .dataframe tbody tr th {\n",
       "        vertical-align: top;\n",
       "    }\n",
       "\n",
       "    .dataframe thead th {\n",
       "        text-align: right;\n",
       "    }\n",
       "</style>\n",
       "<table border=\"1\" class=\"dataframe\">\n",
       "  <thead>\n",
       "    <tr style=\"text-align: right;\">\n",
       "      <th></th>\n",
       "      <th>movieId</th>\n",
       "      <th>title</th>\n",
       "      <th>userId</th>\n",
       "      <th>rating</th>\n",
       "    </tr>\n",
       "  </thead>\n",
       "  <tbody>\n",
       "    <tr>\n",
       "      <th>0</th>\n",
       "      <td>1</td>\n",
       "      <td>Toy Story (1995)</td>\n",
       "      <td>2</td>\n",
       "      <td>5.0</td>\n",
       "    </tr>\n",
       "    <tr>\n",
       "      <th>1</th>\n",
       "      <td>1</td>\n",
       "      <td>Toy Story (1995)</td>\n",
       "      <td>5</td>\n",
       "      <td>4.0</td>\n",
       "    </tr>\n",
       "    <tr>\n",
       "      <th>2</th>\n",
       "      <td>1</td>\n",
       "      <td>Toy Story (1995)</td>\n",
       "      <td>8</td>\n",
       "      <td>5.0</td>\n",
       "    </tr>\n",
       "    <tr>\n",
       "      <th>3</th>\n",
       "      <td>1</td>\n",
       "      <td>Toy Story (1995)</td>\n",
       "      <td>11</td>\n",
       "      <td>4.0</td>\n",
       "    </tr>\n",
       "    <tr>\n",
       "      <th>4</th>\n",
       "      <td>1</td>\n",
       "      <td>Toy Story (1995)</td>\n",
       "      <td>14</td>\n",
       "      <td>4.0</td>\n",
       "    </tr>\n",
       "  </tbody>\n",
       "</table>\n",
       "</div>"
      ],
      "text/plain": [
       "   movieId             title  userId  rating\n",
       "0        1  Toy Story (1995)       2     5.0\n",
       "1        1  Toy Story (1995)       5     4.0\n",
       "2        1  Toy Story (1995)       8     5.0\n",
       "3        1  Toy Story (1995)      11     4.0\n",
       "4        1  Toy Story (1995)      14     4.0"
      ]
     },
     "execution_count": 106,
     "metadata": {},
     "output_type": "execute_result"
    }
   ],
   "source": [
    "data.head()"
   ]
  },
  {
   "cell_type": "markdown",
   "metadata": {},
   "source": [
    "#### Item-Based"
   ]
  },
  {
   "cell_type": "code",
   "execution_count": 15,
   "metadata": {},
   "outputs": [
    {
     "data": {
      "text/html": [
       "<div>\n",
       "<style scoped>\n",
       "    .dataframe tbody tr th:only-of-type {\n",
       "        vertical-align: middle;\n",
       "    }\n",
       "\n",
       "    .dataframe tbody tr th {\n",
       "        vertical-align: top;\n",
       "    }\n",
       "\n",
       "    .dataframe thead th {\n",
       "        text-align: right;\n",
       "    }\n",
       "</style>\n",
       "<table border=\"1\" class=\"dataframe\">\n",
       "  <thead>\n",
       "    <tr style=\"text-align: right;\">\n",
       "      <th>title</th>\n",
       "      <th>'71 (2014)</th>\n",
       "      <th>'Hellboy': The Seeds of Creation (2004)</th>\n",
       "      <th>'Round Midnight (1986)</th>\n",
       "      <th>'Til There Was You (1997)</th>\n",
       "      <th>'burbs, The (1989)</th>\n",
       "      <th>'night Mother (1986)</th>\n",
       "      <th>(500) Days of Summer (2009)</th>\n",
       "      <th>*batteries not included (1987)</th>\n",
       "      <th>...And Justice for All (1979)</th>\n",
       "      <th>10 (1979)</th>\n",
       "      <th>...</th>\n",
       "      <th>[REC] (2007)</th>\n",
       "      <th>[REC]² (2009)</th>\n",
       "      <th>[REC]³ 3 Génesis (2012)</th>\n",
       "      <th>a/k/a Tommy Chong (2005)</th>\n",
       "      <th>eXistenZ (1999)</th>\n",
       "      <th>loudQUIETloud: A Film About the Pixies (2006)</th>\n",
       "      <th>xXx (2002)</th>\n",
       "      <th>xXx: State of the Union (2005)</th>\n",
       "      <th>¡Three Amigos! (1986)</th>\n",
       "      <th>À nous la liberté (Freedom for Us) (1931)</th>\n",
       "    </tr>\n",
       "    <tr>\n",
       "      <th>userId</th>\n",
       "      <th></th>\n",
       "      <th></th>\n",
       "      <th></th>\n",
       "      <th></th>\n",
       "      <th></th>\n",
       "      <th></th>\n",
       "      <th></th>\n",
       "      <th></th>\n",
       "      <th></th>\n",
       "      <th></th>\n",
       "      <th></th>\n",
       "      <th></th>\n",
       "      <th></th>\n",
       "      <th></th>\n",
       "      <th></th>\n",
       "      <th></th>\n",
       "      <th></th>\n",
       "      <th></th>\n",
       "      <th></th>\n",
       "      <th></th>\n",
       "      <th></th>\n",
       "    </tr>\n",
       "  </thead>\n",
       "  <tbody>\n",
       "    <tr>\n",
       "      <th>1</th>\n",
       "      <td>0.0</td>\n",
       "      <td>0</td>\n",
       "      <td>0.0</td>\n",
       "      <td>0</td>\n",
       "      <td>0.0</td>\n",
       "      <td>0</td>\n",
       "      <td>0.0</td>\n",
       "      <td>0.0</td>\n",
       "      <td>0.0</td>\n",
       "      <td>0.0</td>\n",
       "      <td>...</td>\n",
       "      <td>0.0</td>\n",
       "      <td>0.0</td>\n",
       "      <td>0.0</td>\n",
       "      <td>0.0</td>\n",
       "      <td>0.0</td>\n",
       "      <td>0.0</td>\n",
       "      <td>0.0</td>\n",
       "      <td>0.0</td>\n",
       "      <td>0.0</td>\n",
       "      <td>0</td>\n",
       "    </tr>\n",
       "    <tr>\n",
       "      <th>2</th>\n",
       "      <td>0.0</td>\n",
       "      <td>0</td>\n",
       "      <td>0.0</td>\n",
       "      <td>0</td>\n",
       "      <td>0.0</td>\n",
       "      <td>0</td>\n",
       "      <td>0.0</td>\n",
       "      <td>0.0</td>\n",
       "      <td>0.0</td>\n",
       "      <td>0.0</td>\n",
       "      <td>...</td>\n",
       "      <td>0.0</td>\n",
       "      <td>0.0</td>\n",
       "      <td>0.0</td>\n",
       "      <td>0.0</td>\n",
       "      <td>0.0</td>\n",
       "      <td>0.0</td>\n",
       "      <td>0.0</td>\n",
       "      <td>0.0</td>\n",
       "      <td>0.0</td>\n",
       "      <td>0</td>\n",
       "    </tr>\n",
       "    <tr>\n",
       "      <th>3</th>\n",
       "      <td>0.0</td>\n",
       "      <td>0</td>\n",
       "      <td>0.0</td>\n",
       "      <td>0</td>\n",
       "      <td>0.0</td>\n",
       "      <td>0</td>\n",
       "      <td>0.0</td>\n",
       "      <td>0.0</td>\n",
       "      <td>0.0</td>\n",
       "      <td>0.0</td>\n",
       "      <td>...</td>\n",
       "      <td>0.0</td>\n",
       "      <td>0.0</td>\n",
       "      <td>0.0</td>\n",
       "      <td>0.0</td>\n",
       "      <td>0.0</td>\n",
       "      <td>0.0</td>\n",
       "      <td>0.0</td>\n",
       "      <td>0.0</td>\n",
       "      <td>0.0</td>\n",
       "      <td>0</td>\n",
       "    </tr>\n",
       "    <tr>\n",
       "      <th>4</th>\n",
       "      <td>0.0</td>\n",
       "      <td>0</td>\n",
       "      <td>0.0</td>\n",
       "      <td>0</td>\n",
       "      <td>0.0</td>\n",
       "      <td>0</td>\n",
       "      <td>0.0</td>\n",
       "      <td>0.0</td>\n",
       "      <td>0.0</td>\n",
       "      <td>0.0</td>\n",
       "      <td>...</td>\n",
       "      <td>0.0</td>\n",
       "      <td>0.0</td>\n",
       "      <td>0.0</td>\n",
       "      <td>0.0</td>\n",
       "      <td>0.0</td>\n",
       "      <td>0.0</td>\n",
       "      <td>0.0</td>\n",
       "      <td>0.0</td>\n",
       "      <td>0.0</td>\n",
       "      <td>0</td>\n",
       "    </tr>\n",
       "    <tr>\n",
       "      <th>5</th>\n",
       "      <td>0.0</td>\n",
       "      <td>0</td>\n",
       "      <td>0.0</td>\n",
       "      <td>0</td>\n",
       "      <td>0.0</td>\n",
       "      <td>0</td>\n",
       "      <td>0.0</td>\n",
       "      <td>0.0</td>\n",
       "      <td>0.0</td>\n",
       "      <td>0.0</td>\n",
       "      <td>...</td>\n",
       "      <td>0.0</td>\n",
       "      <td>0.0</td>\n",
       "      <td>0.0</td>\n",
       "      <td>0.0</td>\n",
       "      <td>0.0</td>\n",
       "      <td>0.0</td>\n",
       "      <td>0.0</td>\n",
       "      <td>0.0</td>\n",
       "      <td>0.0</td>\n",
       "      <td>0</td>\n",
       "    </tr>\n",
       "  </tbody>\n",
       "</table>\n",
       "<p>5 rows × 10323 columns</p>\n",
       "</div>"
      ],
      "text/plain": [
       "title   '71 (2014)  'Hellboy': The Seeds of Creation (2004)  \\\n",
       "userId                                                        \n",
       "1              0.0                                        0   \n",
       "2              0.0                                        0   \n",
       "3              0.0                                        0   \n",
       "4              0.0                                        0   \n",
       "5              0.0                                        0   \n",
       "\n",
       "title   'Round Midnight (1986)  'Til There Was You (1997)  'burbs, The (1989)  \\\n",
       "userId                                                                          \n",
       "1                          0.0                          0                 0.0   \n",
       "2                          0.0                          0                 0.0   \n",
       "3                          0.0                          0                 0.0   \n",
       "4                          0.0                          0                 0.0   \n",
       "5                          0.0                          0                 0.0   \n",
       "\n",
       "title   'night Mother (1986)  (500) Days of Summer (2009)  \\\n",
       "userId                                                      \n",
       "1                          0                          0.0   \n",
       "2                          0                          0.0   \n",
       "3                          0                          0.0   \n",
       "4                          0                          0.0   \n",
       "5                          0                          0.0   \n",
       "\n",
       "title   *batteries not included (1987)  ...And Justice for All (1979)  \\\n",
       "userId                                                                  \n",
       "1                                  0.0                            0.0   \n",
       "2                                  0.0                            0.0   \n",
       "3                                  0.0                            0.0   \n",
       "4                                  0.0                            0.0   \n",
       "5                                  0.0                            0.0   \n",
       "\n",
       "title   10 (1979)  ...  [REC] (2007)  [REC]² (2009)  [REC]³ 3 Génesis (2012)  \\\n",
       "userId             ...                                                         \n",
       "1             0.0  ...           0.0            0.0                      0.0   \n",
       "2             0.0  ...           0.0            0.0                      0.0   \n",
       "3             0.0  ...           0.0            0.0                      0.0   \n",
       "4             0.0  ...           0.0            0.0                      0.0   \n",
       "5             0.0  ...           0.0            0.0                      0.0   \n",
       "\n",
       "title   a/k/a Tommy Chong (2005)  eXistenZ (1999)  \\\n",
       "userId                                              \n",
       "1                            0.0              0.0   \n",
       "2                            0.0              0.0   \n",
       "3                            0.0              0.0   \n",
       "4                            0.0              0.0   \n",
       "5                            0.0              0.0   \n",
       "\n",
       "title   loudQUIETloud: A Film About the Pixies (2006)  xXx (2002)  \\\n",
       "userId                                                              \n",
       "1                                                 0.0         0.0   \n",
       "2                                                 0.0         0.0   \n",
       "3                                                 0.0         0.0   \n",
       "4                                                 0.0         0.0   \n",
       "5                                                 0.0         0.0   \n",
       "\n",
       "title   xXx: State of the Union (2005)  ¡Three Amigos! (1986)  \\\n",
       "userId                                                          \n",
       "1                                  0.0                    0.0   \n",
       "2                                  0.0                    0.0   \n",
       "3                                  0.0                    0.0   \n",
       "4                                  0.0                    0.0   \n",
       "5                                  0.0                    0.0   \n",
       "\n",
       "title   À nous la liberté (Freedom for Us) (1931)  \n",
       "userId                                             \n",
       "1                                               0  \n",
       "2                                               0  \n",
       "3                                               0  \n",
       "4                                               0  \n",
       "5                                               0  \n",
       "\n",
       "[5 rows x 10323 columns]"
      ]
     },
     "execution_count": 15,
     "metadata": {},
     "output_type": "execute_result"
    }
   ],
   "source": [
    "# lets make a pivot table in order to make rows are users and columns are movies. And values are rating\n",
    "item_pivot_table = data.pivot_table(index = [\"userId\"],columns = [\"title\"],values = \"rating\",fill_value=0)\n",
    "item_pivot_table.head()"
   ]
  },
  {
   "cell_type": "code",
   "execution_count": 168,
   "metadata": {},
   "outputs": [],
   "source": [
    "def get_item_recommendation(input, k=5):\n",
    "    movie_watched = item_pivot_table[input]\n",
    "    sim_scores = item_pivot_table.corrwith(movie_watched)\n",
    "    sim_scores = sim_scores.sort_values(ascending=False)\n",
    "    return sim_scores.drop(input).head(k)"
   ]
  },
  {
   "cell_type": "code",
   "execution_count": 170,
   "metadata": {},
   "outputs": [
    {
     "data": {
      "text/plain": [
       "title\n",
       "Star Wars: Episode VI - Return of the Jedi (1983)    0.451954\n",
       "Toy Story 2 (1999)                                   0.443862\n",
       "Star Wars: Episode IV - A New Hope (1977)            0.420390\n",
       "dtype: float64"
      ]
     },
     "execution_count": 170,
     "metadata": {},
     "output_type": "execute_result"
    }
   ],
   "source": [
    "get_item_recommendation('Toy Story (1995)', 3)"
   ]
  },
  {
   "cell_type": "markdown",
   "metadata": {},
   "source": [
    "#### User-Based"
   ]
  },
  {
   "cell_type": "code",
   "execution_count": 18,
   "metadata": {},
   "outputs": [],
   "source": [
    "from sklearn.metrics.pairwise import cosine_similarity"
   ]
  },
  {
   "cell_type": "code",
   "execution_count": 19,
   "metadata": {},
   "outputs": [],
   "source": [
    "user_pivot_table = item_pivot_table"
   ]
  },
  {
   "cell_type": "code",
   "execution_count": 20,
   "metadata": {},
   "outputs": [],
   "source": [
    "def remove_rated_titles(liked_items, user_recs, n_recs):\n",
    "#     liked_items = list(data[data['userId'] == 55].sort_values('rating', ascending=False)['title'])\n",
    "    liked_removed = [x for x in list(user_recs.index) if x not in liked_items]\n",
    "    user_recs = user_recs.loc[liked_removed].sort_values(ascending=False).index[:n_recs].to_list()\n",
    "    return user_recs\n",
    "\n",
    "def user_based_recs(user, n_recs=5, n_users=5):\n",
    "    \"\"\"\n",
    "    Args:\n",
    "    user - the userId you want recommendations for\n",
    "    n_recs - the number of recommendations you want to return\n",
    "    n_users - the number of users you want to compare your user to (i.e. the number of user similarity scores to use)\n",
    "    \"\"\"\n",
    "    # find top 3 movies user liked for reference\n",
    "    liked_items = list(data[data['userId'] == user].sort_values('rating', ascending=False)['title'])\n",
    "    \n",
    "    # calculate the cosine similarity scores for the given user\n",
    "    user_scores = pd.Series(cosine_similarity(user_pivot_table)[user-1]) #subtract one due to indexing mismatch\n",
    "    user_scores.index = range(1,len(user_scores)+1) # match indexing (increase by one to match pivot table)\n",
    "    sim_users_scores = user_scores.sort_values(ascending=False)[1:n_users+1] # take top 5 similar users\n",
    "    sim_users = list(sim_users_scores.index) # save top n userId's as list\n",
    "    sim_users_df = user_pivot_table.T[sim_users].T # create user-item matrix based on top n users\n",
    "    \n",
    "    # take the weighted sum of similar user's rankings\n",
    "    user_recs =  sim_users_scores.dot(sim_users_df) / np.array([np.abs(sim_users_scores).sum(axis=0)]) \n",
    "    # remove the titles the user has already seen\n",
    "    user_recs = remove_rated_titles(liked_items, user_recs, n_recs)\n",
    "\n",
    "    # print the user, some of their liked movies, and top n recommendations\n",
    "    print('User: {}'.format(user))\n",
    "    print('Liked item: ', liked_items[:3])\n",
    "    print('Recommendations:', list(user_recs))"
   ]
  },
  {
   "cell_type": "code",
   "execution_count": 21,
   "metadata": {
    "scrolled": false
   },
   "outputs": [
    {
     "name": "stdout",
     "output_type": "stream",
     "text": [
      "User: 55\n",
      "Liked item:  ['Coming to America (1988)', 'Mallrats (1995)', 'Ghostbusters II (1989)']\n",
      "Recommendations: ['American Beauty (1999)', 'Fight Club (1999)', 'Lord of the Rings: The Fellowship of the Ring, The (2001)']\n"
     ]
    }
   ],
   "source": [
    "user_based_recs(55,3,3)"
   ]
  },
  {
   "cell_type": "markdown",
   "metadata": {},
   "source": [
    "#### Alternate Memory Based: Non-Parametric KNN"
   ]
  },
  {
   "cell_type": "markdown",
   "metadata": {},
   "source": [
    "Here I will use a python library called surprise to implement a non-parametric memory based model. It uses k-nearest neighbors to develop its recommendations. This model can be either user or item based. I am choosed to use user-based in this demonstration."
   ]
  },
  {
   "cell_type": "code",
   "execution_count": 23,
   "metadata": {},
   "outputs": [],
   "source": [
    "from surprise import KNNWithMeans, Dataset, Reader, accuracy\n",
    "from surprise.model_selection import train_test_split, GridSearchCV"
   ]
  },
  {
   "cell_type": "code",
   "execution_count": 95,
   "metadata": {},
   "outputs": [
    {
     "data": {
      "text/html": [
       "<div>\n",
       "<style scoped>\n",
       "    .dataframe tbody tr th:only-of-type {\n",
       "        vertical-align: middle;\n",
       "    }\n",
       "\n",
       "    .dataframe tbody tr th {\n",
       "        vertical-align: top;\n",
       "    }\n",
       "\n",
       "    .dataframe thead th {\n",
       "        text-align: right;\n",
       "    }\n",
       "</style>\n",
       "<table border=\"1\" class=\"dataframe\">\n",
       "  <thead>\n",
       "    <tr style=\"text-align: right;\">\n",
       "      <th></th>\n",
       "      <th>userId</th>\n",
       "      <th>movieId</th>\n",
       "      <th>rating</th>\n",
       "    </tr>\n",
       "  </thead>\n",
       "  <tbody>\n",
       "    <tr>\n",
       "      <th>0</th>\n",
       "      <td>2</td>\n",
       "      <td>1</td>\n",
       "      <td>5.0</td>\n",
       "    </tr>\n",
       "    <tr>\n",
       "      <th>1</th>\n",
       "      <td>5</td>\n",
       "      <td>1</td>\n",
       "      <td>4.0</td>\n",
       "    </tr>\n",
       "    <tr>\n",
       "      <th>2</th>\n",
       "      <td>8</td>\n",
       "      <td>1</td>\n",
       "      <td>5.0</td>\n",
       "    </tr>\n",
       "    <tr>\n",
       "      <th>3</th>\n",
       "      <td>11</td>\n",
       "      <td>1</td>\n",
       "      <td>4.0</td>\n",
       "    </tr>\n",
       "    <tr>\n",
       "      <th>4</th>\n",
       "      <td>14</td>\n",
       "      <td>1</td>\n",
       "      <td>4.0</td>\n",
       "    </tr>\n",
       "  </tbody>\n",
       "</table>\n",
       "</div>"
      ],
      "text/plain": [
       "   userId  movieId  rating\n",
       "0       2        1     5.0\n",
       "1       5        1     4.0\n",
       "2       8        1     5.0\n",
       "3      11        1     4.0\n",
       "4      14        1     4.0"
      ]
     },
     "execution_count": 95,
     "metadata": {},
     "output_type": "execute_result"
    }
   ],
   "source": [
    "model_data = data.drop('title', axis=1)\n",
    "model_data = model_data[['userId','movieId','rating']] # need to re-arrange columns\n",
    "model_data.head()"
   ]
  },
  {
   "cell_type": "code",
   "execution_count": 96,
   "metadata": {},
   "outputs": [
    {
     "name": "stdout",
     "output_type": "stream",
     "text": [
      "Estimating biases using als...\n",
      "Computing the pearson_baseline similarity matrix...\n",
      "Done computing similarity matrix.\n"
     ]
    }
   ],
   "source": [
    "# Reading the dataset\n",
    "reader = Reader(rating_scale=(1, 5))\n",
    "knn_data = Dataset.load_from_df(model_data,reader)\n",
    "\n",
    "# Create trainset \n",
    "trainset = knn_data.build_full_trainset()\n",
    "\n",
    "# Use user_based true/false to switch between user-based or item-based collaborative filtering\n",
    "algo = KNNWithMeans(k=5, sim_options={'name': 'pearson_baseline', 'user_based': True})\n",
    "algo.fit(trainset)\n",
    "\n",
    "# create test set and run the trained model\n",
    "testset = trainset.build_anti_testset() # use anti_test set to get user-item pairs that do not have ratings\n",
    "test_pred = algo.test(testset)"
   ]
  },
  {
   "cell_type": "code",
   "execution_count": 220,
   "metadata": {},
   "outputs": [],
   "source": [
    "from collections import defaultdict\n",
    "# define the return top n function\n",
    "def get_top_n(predictions):\n",
    "    \n",
    "    # first map the predictions to each user\n",
    "    top_n = defaultdict(list)\n",
    "    for uid, iid, true_r, est, _ in predictions:\n",
    "        top_n[uid].append((iid,est))\n",
    "    \n",
    "    # next sort the predictions by user and retrieve the k highest ones\n",
    "    for uid, user_ratings in top_n.items():\n",
    "        user_ratings.sort(key=lambda x: x[1], reverse=True)\n",
    "        top_n[uid] = user_ratings\n",
    "        \n",
    "    return top_n"
   ]
  },
  {
   "cell_type": "code",
   "execution_count": 49,
   "metadata": {},
   "outputs": [],
   "source": [
    "# call top_n function to retrieve top movies \n",
    "top_n = get_top_n(test_pred)"
   ]
  },
  {
   "cell_type": "code",
   "execution_count": 50,
   "metadata": {},
   "outputs": [],
   "source": [
    "def get_knn_recommendation(user, n=3):\n",
    "\n",
    "    # find 3 movies user liked for reference\n",
    "    liked_item = list(data[data['userId'] == user].sort_values('rating', ascending=False).iloc[:3]['title'])\n",
    "\n",
    "    print('User: {}'.format(user))\n",
    "    print('Sample liked movies: ', liked_item)\n",
    "\n",
    "    # examine top 3 products for user\n",
    "    temp = top_n.get(user)[:n]\n",
    "    recs = pd.Series([x[0] for x in temp]).map(movie_dict['title'])\n",
    "    \n",
    "    print('Recommendations:', list(recs))"
   ]
  },
  {
   "cell_type": "code",
   "execution_count": 57,
   "metadata": {},
   "outputs": [
    {
     "name": "stdout",
     "output_type": "stream",
     "text": [
      "User: 55\n",
      "Sample liked movies:  ['Coming to America (1988)', 'Mallrats (1995)', 'Ghostbusters II (1989)']\n",
      "Recommendations: ['Misérables, Les (1995)', \"You Can't Take It with You (1938)\", 'Trekkies (1997)']\n"
     ]
    }
   ],
   "source": [
    "get_knn_recommendation(55, 3)"
   ]
  },
  {
   "cell_type": "markdown",
   "metadata": {},
   "source": [
    "## Model-Based"
   ]
  },
  {
   "cell_type": "markdown",
   "metadata": {},
   "source": [
    "In this approach, CF models are developed using machine learning algorithms to predict user’s rating of unrated items\n",
    "Matrix Factorization: attitudes or preferences of a user can be determined by a small number of hidden factors. We can call these factors \"Embeddings\"."
   ]
  },
  {
   "cell_type": "markdown",
   "metadata": {},
   "source": [
    "#### Singular Value Decomposition (SVD) Model"
   ]
  },
  {
   "cell_type": "code",
   "execution_count": 216,
   "metadata": {},
   "outputs": [],
   "source": [
    "# import SVD from Surprise library\n",
    "from surprise import SVD"
   ]
  },
  {
   "cell_type": "code",
   "execution_count": 217,
   "metadata": {},
   "outputs": [],
   "source": [
    "# we can train the model using the user based model data set since it's the correct format\n",
    "svd_model = SVD(n_factors=150, n_epochs=20, lr_all=0.008, \n",
    "                    reg_all=0.1, random_state=24)\n",
    "svd_model.fit(trainset)\n",
    "\n",
    "# predict ratings for all user-item pairs that are not in the trainset\n",
    "predictions = svd_model.test(testset)"
   ]
  },
  {
   "cell_type": "code",
   "execution_count": 225,
   "metadata": {},
   "outputs": [],
   "source": [
    "# build top picks for each user\n",
    "\n",
    "# first map the predictions to each user\n",
    "top_picks = defaultdict(list)\n",
    "for uid, iid, true_r, est, _ in predictions:\n",
    "    top_picks[uid].append((iid,est))\n",
    "\n",
    "# next sort the predictions by user and retrieve the k highest ones\n",
    "for uid, user_ratings in top_picks.items():\n",
    "    user_ratings.sort(key=lambda x: x[1], reverse=True)\n",
    "    top_picks[uid] = user_ratings"
   ]
  },
  {
   "cell_type": "code",
   "execution_count": 61,
   "metadata": {},
   "outputs": [],
   "source": [
    "def get_svd_recs(user, n=3):\n",
    "\n",
    "    # find 3 movies user liked for reference\n",
    "    liked_item = list(data[data['userId'] == user].sort_values('rating', ascending=False).iloc[:3]['title'])\n",
    "\n",
    "    print('User: {}'.format(user))\n",
    "    print('Sample liked movies: ', liked_item)\n",
    "\n",
    "    # examine top 3 products for user\n",
    "    temp = top_picks.get(user)[:n]\n",
    "    recs = pd.Series([x[0] for x in temp]).map(movie_dict['title'])\n",
    "    \n",
    "    print('Recommendations:', list(recs))"
   ]
  },
  {
   "cell_type": "code",
   "execution_count": 63,
   "metadata": {},
   "outputs": [
    {
     "name": "stdout",
     "output_type": "stream",
     "text": [
      "User: 55\n",
      "Sample liked movies:  ['Coming to America (1988)', 'Mallrats (1995)', 'Ghostbusters II (1989)']\n",
      "Recommendations: ['Misérables, Les (1995)', \"You Can't Take It with You (1938)\", 'Trekkies (1997)']\n"
     ]
    }
   ],
   "source": [
    "get_svd_recs(55, 3)"
   ]
  },
  {
   "cell_type": "markdown",
   "metadata": {},
   "source": [
    "## Ensemble Model"
   ]
  },
  {
   "cell_type": "code",
   "execution_count": null,
   "metadata": {},
   "outputs": [],
   "source": []
  },
  {
   "cell_type": "code",
   "execution_count": null,
   "metadata": {},
   "outputs": [],
   "source": [
    "# To do\n",
    "# create ensemble model\n",
    "# measure performance of all models\n",
    "# grid search params for SVD\n",
    "# create a way to input user likes/dislikes\n",
    "# create an output function"
   ]
  },
  {
   "cell_type": "markdown",
   "metadata": {},
   "source": [
    "## Performance"
   ]
  },
  {
   "cell_type": "code",
   "execution_count": 55,
   "metadata": {},
   "outputs": [],
   "source": [
    "def my_train_test_split(data):\n",
    "    n_users = data.userId.nunique()\n",
    "    test = pd.DataFrame(columns=['userId','movieId','rating'])\n",
    "    train = data.copy()\n",
    "\n",
    "    for user in range(1,n_users+1):\n",
    "        temp = data[(data['userId'] == user) & (data['rating'] > 0)].sample(10, random_state=24)\n",
    "        test = pd.concat([test, temp])\n",
    "    train = pd.merge(train, test, left_index=True, right_index=True, how=\"outer\", indicator=True).query('_merge==\"left_only\"')\n",
    "    train = train[['userId_x','movieId_x','rating_x', 'title_x']]\n",
    "    train = train.rename(columns={'userId_x': 'userId', 'movieId_x':'movieId', 'rating_x':'rating', 'title_x':'title'})\n",
    "    return train, test"
   ]
  },
  {
   "cell_type": "code",
   "execution_count": 56,
   "metadata": {},
   "outputs": [],
   "source": [
    "train, test = my_train_test_split(data)"
   ]
  },
  {
   "cell_type": "code",
   "execution_count": 129,
   "metadata": {},
   "outputs": [],
   "source": [
    "from sklearn.metrics import mean_squared_error\n",
    "\n",
    "def get_mse(pred, actual):\n",
    "    # Ignore zeros\n",
    "    pred = pred[actual.nonzero()]\n",
    "    actual = actual[actual.nonzero()]\n",
    "    return mean_squared_error(pred, actual)\n",
    "\n",
    "def test_memory_based(train, test, kind='item'):\n",
    "    temp = train.pivot_table(index = [\"userId\"],columns = [\"title\"],values = \"rating\",fill_value=0).to_numpy()\n",
    "    actual = test.pivot_table(index = [\"userId\"],columns = [\"title\"],values = \"rating\",fill_value=0).to_numpy()\n",
    "    if kind == 'item':\n",
    "        sim = temp.T.dot(temp) + 1e-9 # add small value to fix divide by zero\n",
    "        pred = temp.dot(sim) / np.array([np.abs(sim).sum(axis=1)])\n",
    "    elif kind == 'user':\n",
    "        sim = temp.dot(temp.T) + 1e-9 # add small value to fix divide by zero\n",
    "        pred = sim.dot(temp) / np.array([np.abs(sim).sum(axis=1)]).T\n",
    "    else:\n",
    "        print('Please choose an approriate input for kind.')\n",
    "        return\n",
    "    mse = get_mse(pred, actual)\n",
    "    print('{}-based MSE: {}'.format(kind, mse))"
   ]
  },
  {
   "cell_type": "code",
   "execution_count": 100,
   "metadata": {},
   "outputs": [],
   "source": [
    "def test_knn(data):\n",
    "    trainset, testset = train_test_split(data, test_size=.10, random_state=24)\n",
    "    algo = KNNWithMeans(k=5, sim_options={'name': 'pearson_baseline', 'user_based': True})\n",
    "    algo.fit(trainset)\n",
    "    predictions = algo.test(testset)\n",
    "    mse = accuracy.mse(predictions, verbose=False)\n",
    "    print('KNN Model MSE: {}'.format(mse))"
   ]
  },
  {
   "cell_type": "code",
   "execution_count": 102,
   "metadata": {},
   "outputs": [],
   "source": [
    "def test_svd(data):\n",
    "    trainset, testset = train_test_split(data, test_size=.10, random_state=24)\n",
    "    svd_model = SVD()\n",
    "    svd_model.fit(trainset)\n",
    "    predictions = svd_model.test(testset)\n",
    "    mse = accuracy.mse(predictions, verbose=False)\n",
    "    print('SVD Model MSE: {}'.format(mse))"
   ]
  },
  {
   "cell_type": "code",
   "execution_count": 130,
   "metadata": {},
   "outputs": [
    {
     "name": "stdout",
     "output_type": "stream",
     "text": [
      "item-based MSE: 13.232804141815977\n",
      "user-based MSE: 13.544850175634158\n"
     ]
    }
   ],
   "source": [
    "test_memory_based(train, test, kind='item')\n",
    "test_memory_based(train, test, kind='user')"
   ]
  },
  {
   "cell_type": "code",
   "execution_count": 101,
   "metadata": {},
   "outputs": [
    {
     "name": "stdout",
     "output_type": "stream",
     "text": [
      "Estimating biases using als...\n",
      "Computing the pearson_baseline similarity matrix...\n",
      "Done computing similarity matrix.\n",
      "KNN Model MSE: 0.8367164051160263\n"
     ]
    }
   ],
   "source": [
    "test_knn(knn_data)"
   ]
  },
  {
   "cell_type": "code",
   "execution_count": 105,
   "metadata": {},
   "outputs": [
    {
     "name": "stdout",
     "output_type": "stream",
     "text": [
      "SVD Model MSE: 0.04275652330105412\n"
     ]
    }
   ],
   "source": [
    "test_svd(knn_data)"
   ]
  },
  {
   "cell_type": "code",
   "execution_count": null,
   "metadata": {},
   "outputs": [],
   "source": []
  }
 ],
 "metadata": {
  "kernelspec": {
   "display_name": "Python 3",
   "language": "python",
   "name": "python3"
  },
  "language_info": {
   "codemirror_mode": {
    "name": "ipython",
    "version": 3
   },
   "file_extension": ".py",
   "mimetype": "text/x-python",
   "name": "python",
   "nbconvert_exporter": "python",
   "pygments_lexer": "ipython3",
   "version": "3.7.9"
  }
 },
 "nbformat": 4,
 "nbformat_minor": 4
}
